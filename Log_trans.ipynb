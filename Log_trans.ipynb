{
 "cells": [
  {
   "cell_type": "code",
   "execution_count": 1,
   "id": "d4ac9d0c",
   "metadata": {},
   "outputs": [],
   "source": [
    "import numpy as np\n",
    "import pandas as pd"
   ]
  },
  {
   "cell_type": "code",
   "execution_count": 5,
   "id": "998fdcb4",
   "metadata": {},
   "outputs": [],
   "source": [
    "#easyJet\n",
    "data_1 = {\n",
    "    'Year': [2018, 2019, 2020, 2021, 2022, 2023],\n",
    "    'Company Size (million pounds)': [5898, 6385, 3094, 1455, 876, 5179],\n",
    "    'Net Profit (million pounds)': [358, 349, -1079, -858, -169, 324]\n",
    "}\n",
    "df_1 = pd.DataFrame(data_1)"
   ]
  },
  {
   "cell_type": "code",
   "execution_count": 13,
   "id": "9202346c",
   "metadata": {},
   "outputs": [
    {
     "name": "stdout",
     "output_type": "stream",
     "text": [
      "   Year  Company Size (million pounds)  Net Profit (million pounds)  \\\n",
      "0  2018                           5898                          358   \n",
      "1  2019                           6385                          349   \n",
      "2  2020                           3094                        -1079   \n",
      "3  2021                           1455                         -858   \n",
      "4  2022                            876                         -169   \n",
      "5  2023                           5179                          324   \n",
      "\n",
      "   Log Company Size  Log Net Profit  \n",
      "0          8.682369        5.883322  \n",
      "1          8.761707        5.857933  \n",
      "2          8.037220       -6.984716  \n",
      "3          7.282761       -6.755769  \n",
      "4          6.775366       -5.135798  \n",
      "5          8.552367        5.783825  \n"
     ]
    }
   ],
   "source": [
    "# Logarithm of company size\n",
    "df_1['Log Company Size'] = np.log(df_1['Company Size (million pounds)'])\n",
    "\n",
    "# Take the signed logarithm of the net profit\n",
    "df_1['Log Net Profit'] = np.sign(df_1['Net Profit (million pounds)']) * np.log(np.abs(df_1['Net Profit (million pounds)']) + 1)\n",
    "\n",
    "print(df_1)"
   ]
  },
  {
   "cell_type": "code",
   "execution_count": 20,
   "id": "f93d8c41",
   "metadata": {},
   "outputs": [],
   "source": [
    "#ryanair\n",
    "data_2 = {\n",
    "    'Year': [2018, 2019, 2020, 2021, 2022, 2023],\n",
    "    'Company Size (million pounds)': [7697, 8495, 1636, 4801, 10775, 13444],\n",
    "    'Net Profit (million pounds)': [885, 649, -1015, -241, 1314, 1917]\n",
    "}\n",
    "df_2 = pd.DataFrame(data_2)\n",
    "\n",
    "#wizz air\n",
    "data_3 = {\n",
    "    'Year': [2018, 2019, 2020, 2021, 2022, 2023],\n",
    "    'Company Size (million pounds)': [2319.1, 2761.3, 739, 1663.4, 3895.7, 5073.1],\n",
    "    'Net Profit (million pounds)': [123, 281.1, -576, -642.5, -535.1, 365.9]\n",
    "}\n",
    "df_3 = pd.DataFrame(data_3)\n",
    "\n",
    "#air france\n",
    "data_4 = {\n",
    "    'Year': [2015, 2016, 2017, 2018, 2019, 2020, 2021, 2022, 2023],\n",
    "    'Company Size (million pounds)': [16099, 15414, 15828, 16073, 16588, 6415, 8744, 16285, 18518],\n",
    "    'Net Profit (million pounds)': [426, 372, 588, 266, 280, -3389, -1403, 483, 1085]\n",
    "}\n",
    "df_4 = pd.DataFrame(data_4)\n",
    "\n",
    "#british airways\n",
    "data_5 = {\n",
    "    'Year': [2018, 2019, 2020, 2021, 2022, 2023],\n",
    "    'Company Size (million pounds)': [13020, 13290, 3947, 3699, 11030, 14323],\n",
    "    'Net Profit (million pounds)': [1952, 1921, -3880, -1769, 322, 1431]\n",
    "}\n",
    "df_5 = pd.DataFrame(data_5)\n",
    "\n",
    "#lufthansa\n",
    "data_6 = {\n",
    "    'Year': [2018, 2019, 2020, 2021, 2022, 2023],\n",
    "    'Company Size (million pounds)': [35542, 36424, 13589, 16811, 32770, 35442],\n",
    "    'Net Profit (million pounds)': [2163, 1213, -6725, -2191, 804, 1689]\n",
    "}\n",
    "df_6 = pd.DataFrame(data_6)"
   ]
  },
  {
   "cell_type": "code",
   "execution_count": 15,
   "id": "e3cd4501",
   "metadata": {},
   "outputs": [
    {
     "name": "stdout",
     "output_type": "stream",
     "text": [
      "   Year  Company Size (million pounds)  Net Profit (million pounds)  \\\n",
      "0  2018                           7697                          885   \n",
      "1  2019                           8495                          649   \n",
      "2  2020                           1636                        -1015   \n",
      "3  2021                           4801                         -241   \n",
      "4  2022                          10775                         1314   \n",
      "5  2023                          13444                         1917   \n",
      "\n",
      "   Log Company Size  Log Net Profit  \n",
      "0          8.948586        6.786717  \n",
      "1          9.047233        6.476972  \n",
      "2          7.400010       -6.923629  \n",
      "3          8.476580       -5.488938  \n",
      "4          9.284984        7.181592  \n",
      "5          9.506288        7.559038  \n"
     ]
    }
   ],
   "source": [
    "# Logarithm of company size\n",
    "df_2['Log Company Size'] = np.log(df_2['Company Size (million pounds)'])\n",
    "\n",
    "# Take the signed logarithm of the net profit\n",
    "df_2['Log Net Profit'] = np.sign(df_2['Net Profit (million pounds)']) * np.log(np.abs(df_2['Net Profit (million pounds)']) + 1)\n",
    "\n",
    "print(df_2)"
   ]
  },
  {
   "cell_type": "code",
   "execution_count": 16,
   "id": "1ee9b5f8",
   "metadata": {},
   "outputs": [
    {
     "name": "stdout",
     "output_type": "stream",
     "text": [
      "   Year  Company Size (million pounds)  Net Profit (million pounds)  \\\n",
      "0  2018                         2319.1                        123.0   \n",
      "1  2019                         2761.3                        281.1   \n",
      "2  2020                          739.0                       -576.0   \n",
      "3  2021                         1663.4                       -642.5   \n",
      "4  2022                         3895.7                       -535.1   \n",
      "5  2023                         5073.1                        365.9   \n",
      "\n",
      "   Log Company Size  Log Net Profit  \n",
      "0          7.748934        4.820282  \n",
      "1          7.923457        5.642262  \n",
      "2          6.605298       -6.357842  \n",
      "3          7.416619       -6.466922  \n",
      "4          8.267629       -6.284321  \n",
      "5          8.531707        5.905089  \n"
     ]
    }
   ],
   "source": [
    "# Logarithm of company size\n",
    "df_3['Log Company Size'] = np.log(df_3['Company Size (million pounds)'])\n",
    "\n",
    "# Take the signed logarithm of the net profit\n",
    "df_3['Log Net Profit'] = np.sign(df_3['Net Profit (million pounds)']) * np.log(np.abs(df_3['Net Profit (million pounds)']) + 1)\n",
    "\n",
    "print(df_3)"
   ]
  },
  {
   "cell_type": "code",
   "execution_count": 21,
   "id": "e2279f0e",
   "metadata": {},
   "outputs": [
    {
     "name": "stdout",
     "output_type": "stream",
     "text": [
      "   Year  Company Size (million pounds)  Net Profit (million pounds)  \\\n",
      "0  2015                          16099                          426   \n",
      "1  2016                          15414                          372   \n",
      "2  2017                          15828                          588   \n",
      "3  2018                          16073                          266   \n",
      "4  2019                          16588                          280   \n",
      "5  2020                           6415                        -3389   \n",
      "6  2021                           8744                        -1403   \n",
      "7  2022                          16285                          483   \n",
      "8  2023                          18518                         1085   \n",
      "\n",
      "   Log Company Size  Log Net Profit  \n",
      "0          9.686512        6.056784  \n",
      "1          9.643031        5.921578  \n",
      "2          9.669536        6.378426  \n",
      "3          9.684896        5.587249  \n",
      "4          9.716435        5.638355  \n",
      "5          8.766394       -8.128585  \n",
      "6          9.076123       -7.247081  \n",
      "7          9.698000        6.182085  \n",
      "8          9.826499        6.990257  \n"
     ]
    }
   ],
   "source": [
    "# Logarithm of company size\n",
    "df_4['Log Company Size'] = np.log(df_4['Company Size (million pounds)'])\n",
    "\n",
    "# Take the signed logarithm of the net profit\n",
    "df_4['Log Net Profit'] = np.sign(df_4['Net Profit (million pounds)']) * np.log(np.abs(df_4['Net Profit (million pounds)']) + 1)\n",
    "\n",
    "print(df_4)"
   ]
  },
  {
   "cell_type": "code",
   "execution_count": 18,
   "id": "0ca92fcd",
   "metadata": {},
   "outputs": [
    {
     "name": "stdout",
     "output_type": "stream",
     "text": [
      "   Year  Company Size (million pounds)  Net Profit (million pounds)  \\\n",
      "0  2018                          13020                         1952   \n",
      "1  2019                          13290                         1921   \n",
      "2  2020                           3947                        -3880   \n",
      "3  2021                           3699                        -1769   \n",
      "4  2022                          11030                          322   \n",
      "5  2023                          14323                         1431   \n",
      "\n",
      "   Log Company Size  Log Net Profit  \n",
      "0          9.474242        7.577122  \n",
      "1          9.494767        7.561122  \n",
      "2          8.280711       -8.263848  \n",
      "3          8.215818       -7.478735  \n",
      "4          9.308374        5.777652  \n",
      "5          9.569622        7.266827  \n"
     ]
    }
   ],
   "source": [
    "# Logarithm of company size\n",
    "df_5['Log Company Size'] = np.log(df_5['Company Size (million pounds)'])\n",
    "\n",
    "# Take the signed logarithm of the net profit\n",
    "df_5['Log Net Profit'] = np.sign(df_5['Net Profit (million pounds)']) * np.log(np.abs(df_5['Net Profit (million pounds)']) + 1)\n",
    "\n",
    "print(df_5)"
   ]
  },
  {
   "cell_type": "code",
   "execution_count": 19,
   "id": "0ee2a2b3",
   "metadata": {},
   "outputs": [
    {
     "name": "stdout",
     "output_type": "stream",
     "text": [
      "   Year  Company Size (million pounds)  Net Profit (million pounds)  \\\n",
      "0  2018                          35542                         2163   \n",
      "1  2019                          36424                         1213   \n",
      "2  2020                          13589                        -6725   \n",
      "3  2021                          16811                        -2191   \n",
      "4  2022                          32770                          804   \n",
      "5  2023                          35442                         1689   \n",
      "\n",
      "   Log Company Size  Log Net Profit  \n",
      "0         10.478470        7.679714  \n",
      "1         10.502983        7.101676  \n",
      "2          9.517016       -8.813736  \n",
      "3          9.729789       -7.692570  \n",
      "4         10.397269        6.690842  \n",
      "5         10.475653        7.432484  \n"
     ]
    }
   ],
   "source": [
    "# Logarithm of company size\n",
    "df_6['Log Company Size'] = np.log(df_6['Company Size (million pounds)'])\n",
    "\n",
    "# Take the signed logarithm of the net profit\n",
    "df_6['Log Net Profit'] = np.sign(df_6['Net Profit (million pounds)']) * np.log(np.abs(df_6['Net Profit (million pounds)']) + 1)\n",
    "\n",
    "print(df_6)"
   ]
  }
 ],
 "metadata": {
  "kernelspec": {
   "display_name": "Python 3 (ipykernel)",
   "language": "python",
   "name": "python3"
  },
  "language_info": {
   "codemirror_mode": {
    "name": "ipython",
    "version": 3
   },
   "file_extension": ".py",
   "mimetype": "text/x-python",
   "name": "python",
   "nbconvert_exporter": "python",
   "pygments_lexer": "ipython3",
   "version": "3.11.5"
  }
 },
 "nbformat": 4,
 "nbformat_minor": 5
}
